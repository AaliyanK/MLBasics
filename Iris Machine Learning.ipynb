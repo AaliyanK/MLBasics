{
 "cells": [
  {
   "cell_type": "code",
   "execution_count": 6,
   "metadata": {},
   "outputs": [],
   "source": [
    "#Machine learning model that can detect iris plant - assuming cleaned data\n",
    "from sklearn.datasets import load_iris\n",
    "iris=load_iris()"
   ]
  },
  {
   "cell_type": "code",
   "execution_count": 17,
   "metadata": {},
   "outputs": [],
   "source": [
    "X = iris.data #arrays, all numbered; each list is a piece of data that represents iris flower"
   ]
  },
  {
   "cell_type": "code",
   "execution_count": 18,
   "metadata": {},
   "outputs": [],
   "source": [
    "y=iris.target #create a function that takes in data and outputs our target\n",
    "# target are the types of iris flower types"
   ]
  },
  {
   "cell_type": "code",
   "execution_count": 19,
   "metadata": {},
   "outputs": [
    {
     "data": {
      "text/plain": [
       "['sepal length (cm)',\n",
       " 'sepal width (cm)',\n",
       " 'petal length (cm)',\n",
       " 'petal width (cm)']"
      ]
     },
     "execution_count": 19,
     "metadata": {},
     "output_type": "execute_result"
    }
   ],
   "source": [
    "# from kaggle we can search up iris data set and see the columns/rows\n",
    "feature_names = iris.feature_names\n",
    "target_names = iris.target_names\n",
    "feature_names"
   ]
  },
  {
   "cell_type": "code",
   "execution_count": 20,
   "metadata": {},
   "outputs": [
    {
     "data": {
      "text/plain": [
       "array(['setosa', 'versicolor', 'virginica'], dtype='<U10')"
      ]
     },
     "execution_count": 20,
     "metadata": {},
     "output_type": "execute_result"
    }
   ],
   "source": [
    "target_names # these are all numpy arrays"
   ]
  },
  {
   "cell_type": "code",
   "execution_count": 43,
   "metadata": {},
   "outputs": [
    {
     "name": "stdout",
     "output_type": "stream",
     "text": [
      "(120, 4)\n",
      "(30, 4)\n"
     ]
    }
   ],
   "source": [
    "from sklearn.model_selection import train_test_split #split matrix into train/test data\n",
    "X_train,X_test,y_train,y_test=train_test_split(X,y,test_size=0.2)  #decides what to test and train\n",
    "print(X_train.shape) #dimensions of the array\n",
    "print(X_test.shape) \n",
    "# AS THE TEST SIZE INCREASES, more data is tested and accuracy goes down\n",
    "# As test size decreases, less data is tested and accuracy goes up"
   ]
  },
  {
   "cell_type": "code",
   "execution_count": 44,
   "metadata": {},
   "outputs": [],
   "source": [
    "from sklearn.neighbors import KNeighborsClassifier\n",
    "knn = KNeighborsClassifier(n_neighbors=4) # give it 3 because there are 3 types of flowers in the data set\n",
    "knn.fit(X_train,y_train) #FIT TRAINING DATA\n",
    "y_pred=knn.predict(X_test) #PREDICTED DATA OUPUT BASED ON TEST (y is output!)\n"
   ]
  },
  {
   "cell_type": "code",
   "execution_count": 45,
   "metadata": {},
   "outputs": [
    {
     "name": "stdout",
     "output_type": "stream",
     "text": [
      "0.9666666666666667\n"
     ]
    }
   ],
   "source": [
    "#we now want to compare the prediction with the tested data\n",
    "from sklearn import metrics\n",
    "print(metrics.accuracy_score(y_test,y_pred)) #MODEL IS 96% CORRECT"
   ]
  },
  {
   "cell_type": "code",
   "execution_count": null,
   "metadata": {},
   "outputs": [],
   "source": [
    "# Ways to improve: Tune the test size,adding more neighbors,adding more features, or use another algorithm\n"
   ]
  },
  {
   "cell_type": "code",
   "execution_count": 50,
   "metadata": {},
   "outputs": [
    {
     "name": "stdout",
     "output_type": "stream",
     "text": [
      "['versicolor', 'virginica']\n"
     ]
    }
   ],
   "source": [
    "sample = [[3,5,4,2],[2,3,5,4]] #someone gives us sample data with 2 images and the following columns\n",
    "predictions = knn.predict(sample)\n",
    "pred_species = [iris.target_names[p] for p in predictions]\n",
    "print(pred_species) # based on sample data, these are the predictions"
   ]
  },
  {
   "cell_type": "code",
   "execution_count": 52,
   "metadata": {},
   "outputs": [
    {
     "data": {
      "text/plain": [
       "['mlbran.joblib']"
      ]
     },
     "execution_count": 52,
     "metadata": {},
     "output_type": "execute_result"
    }
   ],
   "source": [
    "# model persistence saves models to a file and uses file for predictions\n",
    "from sklearn.externals import joblib\n",
    "joblib.dump(knn,'mlbran.joblib')"
   ]
  },
  {
   "cell_type": "code",
   "execution_count": 54,
   "metadata": {},
   "outputs": [
    {
     "data": {
      "text/plain": [
       "array([2, 1, 0, 0, 0, 1, 2, 0, 0, 1, 2, 2, 0, 1, 2, 2, 2, 0, 2, 0, 1, 0,\n",
       "       2, 2, 0, 1, 0, 2, 1, 1])"
      ]
     },
     "execution_count": 54,
     "metadata": {},
     "output_type": "execute_result"
    }
   ],
   "source": [
    "model = joblib.load('mlbran.joblib')\n",
    "model.predict(X_test)"
   ]
  },
  {
   "cell_type": "code",
   "execution_count": null,
   "metadata": {},
   "outputs": [],
   "source": []
  }
 ],
 "metadata": {
  "kernelspec": {
   "display_name": "Python 3",
   "language": "python",
   "name": "python3"
  },
  "language_info": {
   "codemirror_mode": {
    "name": "ipython",
    "version": 3
   },
   "file_extension": ".py",
   "mimetype": "text/x-python",
   "name": "python",
   "nbconvert_exporter": "python",
   "pygments_lexer": "ipython3",
   "version": "3.7.1"
  }
 },
 "nbformat": 4,
 "nbformat_minor": 2
}
